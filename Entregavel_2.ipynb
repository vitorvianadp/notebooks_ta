{
 "cells": [
  {
   "cell_type": "markdown",
   "id": "9fd301cf",
   "metadata": {},
   "source": [
    "## Entregável 2\n",
    "\n",
    "### Autor: Vítor Viana"
   ]
  },
  {
   "cell_type": "code",
   "execution_count": 1,
   "id": "15f4e974",
   "metadata": {},
   "outputs": [],
   "source": [
    "import pandas as pd\n",
    "import matplotlib.pyplot as plt\n",
    "import numpy as np\n",
    "import seaborn as sns"
   ]
  },
  {
   "cell_type": "markdown",
   "id": "15c7b5c1",
   "metadata": {},
   "source": [
    "### Descrição do dataset"
   ]
  },
  {
   "cell_type": "markdown",
   "id": "0b544ec9",
   "metadata": {},
   "source": [
    "<div style=\"text-align: justify\"> O dataset contém informações relativas ao sexo, idade, altura e peso dos indivíduos entrevistados. Considerando a faixa etária especificada de 14 a 70 anos e os valores dos outros parâmetros é possível checar de antemão se há alguma feature com dados que precisam ser tratados. </div>"
   ]
  },
  {
   "cell_type": "code",
   "execution_count": 2,
   "id": "10ae343c",
   "metadata": {},
   "outputs": [
    {
     "data": {
      "text/html": [
       "<div>\n",
       "<style scoped>\n",
       "    .dataframe tbody tr th:only-of-type {\n",
       "        vertical-align: middle;\n",
       "    }\n",
       "\n",
       "    .dataframe tbody tr th {\n",
       "        vertical-align: top;\n",
       "    }\n",
       "\n",
       "    .dataframe thead th {\n",
       "        text-align: right;\n",
       "    }\n",
       "</style>\n",
       "<table border=\"1\" class=\"dataframe\">\n",
       "  <thead>\n",
       "    <tr style=\"text-align: right;\">\n",
       "      <th></th>\n",
       "      <th>sex</th>\n",
       "      <th>age</th>\n",
       "      <th>height</th>\n",
       "      <th>weight</th>\n",
       "    </tr>\n",
       "  </thead>\n",
       "  <tbody>\n",
       "    <tr>\n",
       "      <th>0</th>\n",
       "      <td>M</td>\n",
       "      <td>62</td>\n",
       "      <td>1.874021</td>\n",
       "      <td>114.384199</td>\n",
       "    </tr>\n",
       "    <tr>\n",
       "      <th>1</th>\n",
       "      <td>F</td>\n",
       "      <td>44</td>\n",
       "      <td>1.672676</td>\n",
       "      <td>76.031332</td>\n",
       "    </tr>\n",
       "    <tr>\n",
       "      <th>2</th>\n",
       "      <td>F</td>\n",
       "      <td>49</td>\n",
       "      <td>1.587970</td>\n",
       "      <td>46.403086</td>\n",
       "    </tr>\n",
       "    <tr>\n",
       "      <th>3</th>\n",
       "      <td>F</td>\n",
       "      <td>25</td>\n",
       "      <td>1.653451</td>\n",
       "      <td>104.352744</td>\n",
       "    </tr>\n",
       "    <tr>\n",
       "      <th>4</th>\n",
       "      <td>M</td>\n",
       "      <td>65</td>\n",
       "      <td>1.744867</td>\n",
       "      <td>76.831890</td>\n",
       "    </tr>\n",
       "  </tbody>\n",
       "</table>\n",
       "</div>"
      ],
      "text/plain": [
       "  sex  age    height      weight\n",
       "0   M   62  1.874021  114.384199\n",
       "1   F   44  1.672676   76.031332\n",
       "2   F   49  1.587970   46.403086\n",
       "3   F   25  1.653451  104.352744\n",
       "4   M   65  1.744867   76.831890"
      ]
     },
     "execution_count": 2,
     "metadata": {},
     "output_type": "execute_result"
    }
   ],
   "source": [
    "df = pd.read_csv(\"dataset2.csv\")\n",
    "df.head()"
   ]
  },
  {
   "cell_type": "code",
   "execution_count": 3,
   "id": "7b81820c",
   "metadata": {},
   "outputs": [
    {
     "data": {
      "text/plain": [
       "array(['M', 'F', 'male', 'female'], dtype=object)"
      ]
     },
     "execution_count": 3,
     "metadata": {},
     "output_type": "execute_result"
    }
   ],
   "source": [
    "df['sex'].unique()"
   ]
  },
  {
   "cell_type": "code",
   "execution_count": 4,
   "id": "13a01824",
   "metadata": {},
   "outputs": [
    {
     "data": {
      "text/plain": [
       "count    10000.000000\n",
       "mean        42.171700\n",
       "std         16.425919\n",
       "min         14.000000\n",
       "25%         28.000000\n",
       "50%         42.000000\n",
       "75%         57.000000\n",
       "max         70.000000\n",
       "Name: age, dtype: float64"
      ]
     },
     "execution_count": 4,
     "metadata": {},
     "output_type": "execute_result"
    }
   ],
   "source": [
    "df['age'].describe()"
   ]
  },
  {
   "cell_type": "code",
   "execution_count": 5,
   "id": "821fd541",
   "metadata": {},
   "outputs": [
    {
     "data": {
      "text/plain": [
       "count    10000.000000\n",
       "mean         1.708993\n",
       "std          0.099272\n",
       "min          1.376462\n",
       "25%          1.636008\n",
       "50%          1.702588\n",
       "75%          1.776343\n",
       "max          2.054139\n",
       "Name: height, dtype: float64"
      ]
     },
     "execution_count": 5,
     "metadata": {},
     "output_type": "execute_result"
    }
   ],
   "source": [
    "df['height'].describe()"
   ]
  },
  {
   "cell_type": "code",
   "execution_count": 6,
   "id": "ccfab2b5",
   "metadata": {},
   "outputs": [
    {
     "data": {
      "text/plain": [
       "count    10000.000000\n",
       "mean        88.910496\n",
       "std         33.328269\n",
       "min         17.970189\n",
       "25%         69.394196\n",
       "50%         83.518259\n",
       "75%         99.050654\n",
       "max        335.295817\n",
       "Name: weight, dtype: float64"
      ]
     },
     "execution_count": 6,
     "metadata": {},
     "output_type": "execute_result"
    }
   ],
   "source": [
    "df['weight'].describe()"
   ]
  },
  {
   "cell_type": "code",
   "execution_count": 7,
   "id": "1cbe736e",
   "metadata": {},
   "outputs": [
    {
     "data": {
      "text/plain": [
       "sex       0.0\n",
       "age       0.0\n",
       "height    0.0\n",
       "weight    0.0\n",
       "dtype: float64"
      ]
     },
     "execution_count": 7,
     "metadata": {},
     "output_type": "execute_result"
    }
   ],
   "source": [
    "df.isnull().mean()"
   ]
  },
  {
   "cell_type": "markdown",
   "id": "1077d6f4",
   "metadata": {},
   "source": [
    "<div style=\"text-align: justify\"> Dessa análise inicial, percebe-se que em sexo foram registradas respostas para o sexo masculino como <i>'M'</i> e como <i>'male'</i> assim como para o sexo feminino tiveram os registros <i>'F'</i> e <i>'female'</i>. </div>"
   ]
  },
  {
   "cell_type": "markdown",
   "id": "5103d628",
   "metadata": {},
   "source": [
    "<div style=\"text-align: justify\"> Pode-se ver também alguns valores suspeitos sobretudo em relação ao peso, mas é melhor analisar essa possível incongruência plotando gráficos para uma melhor visualização da distribuição dos valores. </div>"
   ]
  },
  {
   "cell_type": "markdown",
   "id": "f01cfdc4",
   "metadata": {},
   "source": [
    "### 1. Esboço do gráfico"
   ]
  },
  {
   "cell_type": "code",
   "execution_count": 8,
   "id": "fc917fed",
   "metadata": {},
   "outputs": [
    {
     "data": {
      "image/png": "[encoded data removed]",
      "text/plain": [
       "<Figure size 1080x432 with 1 Axes>"
      ]
     },
     "metadata": {
      "needs_background": "light"
     },
     "output_type": "display_data"
    }
   ],
   "source": [
    "x = df['height']\n",
    "y = df['weight']\n",
    "\n",
    "xticks_array = []\n",
    "n = 8\n",
    "for i in range(n+1):\n",
    "    xticks_array.append(df.iloc[:,2].min() + i*(df.iloc[:,2].max() - df.iloc[:,2].min())/n)\n",
    "\n",
    "yticks_array = []\n",
    "m = 14\n",
    "for j in range(m):\n",
    "    yticks_array.append((j+1)*25)\n",
    "\n",
    "plt.figure(figsize=(15, 6))\n",
    "plt.scatter(x, y, color=\"orange\")\n",
    "plt.title('Dispersão de valores de peso em função da altura', fontsize= 20) # Adiciona o título do gráfico\n",
    "plt.xlabel('Altura [m]',fontsize = 15) # Adiciona o título do eixo x\n",
    "plt.ylabel('Peso [??]', fontsize = 15) # Adiciona o título do eixo y\n",
    "plt.xticks(xticks_array)\n",
    "plt.yticks(yticks_array)\n",
    "plt.grid()\n",
    "plt.show()"
   ]
  },
  {
   "cell_type": "markdown",
   "id": "f9aeb91d",
   "metadata": {},
   "source": [
    "<div style=\"text-align: justify\"> Do gráfico esboçado é possível perceber que à medida que a altura aumenta, a tendência é que os valores de peso aumentem também, ou seja, há uma correlação positiva entre as features. Além disso, nota-se que a imensa maioria dos indivíduos enquadra-se na faixa de 1,55 a 1,88 metros de altura e entre 50 e 125 unidades de peso. Nesse caso, não se usou a unidade para o peso pelo fato de uma parcela significativa dos dados estar fora da concentração dos pontos (fato não usual), de modo que é preciso checar esses dados que estão destoando da distribuição esperada.  </div>"
   ]
  },
  {
   "cell_type": "markdown",
   "id": "1e1b9ffb",
   "metadata": {},
   "source": [
    "### 2. Inconsistência em features"
   ]
  },
  {
   "cell_type": "markdown",
   "id": "8ead789d",
   "metadata": {},
   "source": [
    "<div style=\"text-align: justify\"> Uma das inconsistências já foi previamente indentificada (coluna <i>'sex'</i>). A outra característica de alguma coluna do dataset afetada pela junção dos dois conjuntos de dados é a unidade do peso, que em algumas linhas está em <i>kg</i> enquanto que nas outras está em <i>pounds</i>. Como a inconsistência ocorreu devido à integração dos 2 conjuntos de dados distintos, basta tratar os dados de um dos conjuntos para uniformizar o dataset. Já considerando que o IMC é calculado em $ kg/m^2 $, optou-se por manter a unidade do peso em <i>kg</i>. Após dar o devido tratamento à essas features, plotou-se novamente o gráfico anterior para checar se os resultados foram coerentes. </div>"
   ]
  },
  {
   "cell_type": "code",
   "execution_count": 9,
   "id": "dd3a782d",
   "metadata": {},
   "outputs": [
    {
     "data": {
      "text/html": [
       "<div>\n",
       "<style scoped>\n",
       "    .dataframe tbody tr th:only-of-type {\n",
       "        vertical-align: middle;\n",
       "    }\n",
       "\n",
       "    .dataframe tbody tr th {\n",
       "        vertical-align: top;\n",
       "    }\n",
       "\n",
       "    .dataframe thead th {\n",
       "        text-align: right;\n",
       "    }\n",
       "</style>\n",
       "<table border=\"1\" class=\"dataframe\">\n",
       "  <thead>\n",
       "    <tr style=\"text-align: right;\">\n",
       "      <th></th>\n",
       "      <th>sex</th>\n",
       "      <th>age</th>\n",
       "      <th>height</th>\n",
       "      <th>weight</th>\n",
       "    </tr>\n",
       "  </thead>\n",
       "  <tbody>\n",
       "    <tr>\n",
       "      <th>30</th>\n",
       "      <td>male</td>\n",
       "      <td>24</td>\n",
       "      <td>1.705208</td>\n",
       "      <td>182.135791</td>\n",
       "    </tr>\n",
       "    <tr>\n",
       "      <th>48</th>\n",
       "      <td>female</td>\n",
       "      <td>65</td>\n",
       "      <td>1.609532</td>\n",
       "      <td>145.446036</td>\n",
       "    </tr>\n",
       "    <tr>\n",
       "      <th>57</th>\n",
       "      <td>male</td>\n",
       "      <td>33</td>\n",
       "      <td>1.708634</td>\n",
       "      <td>126.539399</td>\n",
       "    </tr>\n",
       "    <tr>\n",
       "      <th>68</th>\n",
       "      <td>male</td>\n",
       "      <td>57</td>\n",
       "      <td>1.770826</td>\n",
       "      <td>121.244083</td>\n",
       "    </tr>\n",
       "    <tr>\n",
       "      <th>109</th>\n",
       "      <td>male</td>\n",
       "      <td>50</td>\n",
       "      <td>1.793294</td>\n",
       "      <td>239.725751</td>\n",
       "    </tr>\n",
       "    <tr>\n",
       "      <th>...</th>\n",
       "      <td>...</td>\n",
       "      <td>...</td>\n",
       "      <td>...</td>\n",
       "      <td>...</td>\n",
       "    </tr>\n",
       "    <tr>\n",
       "      <th>9957</th>\n",
       "      <td>female</td>\n",
       "      <td>63</td>\n",
       "      <td>1.674665</td>\n",
       "      <td>143.004450</td>\n",
       "    </tr>\n",
       "    <tr>\n",
       "      <th>9962</th>\n",
       "      <td>female</td>\n",
       "      <td>31</td>\n",
       "      <td>1.737863</td>\n",
       "      <td>144.781834</td>\n",
       "    </tr>\n",
       "    <tr>\n",
       "      <th>9984</th>\n",
       "      <td>female</td>\n",
       "      <td>45</td>\n",
       "      <td>1.632982</td>\n",
       "      <td>177.514903</td>\n",
       "    </tr>\n",
       "    <tr>\n",
       "      <th>9989</th>\n",
       "      <td>male</td>\n",
       "      <td>28</td>\n",
       "      <td>1.940960</td>\n",
       "      <td>195.461341</td>\n",
       "    </tr>\n",
       "    <tr>\n",
       "      <th>9996</th>\n",
       "      <td>female</td>\n",
       "      <td>33</td>\n",
       "      <td>1.601821</td>\n",
       "      <td>141.973080</td>\n",
       "    </tr>\n",
       "  </tbody>\n",
       "</table>\n",
       "<p>659 rows × 4 columns</p>\n",
       "</div>"
      ],
      "text/plain": [
       "         sex  age    height      weight\n",
       "30      male   24  1.705208  182.135791\n",
       "48    female   65  1.609532  145.446036\n",
       "57      male   33  1.708634  126.539399\n",
       "68      male   57  1.770826  121.244083\n",
       "109     male   50  1.793294  239.725751\n",
       "...      ...  ...       ...         ...\n",
       "9957  female   63  1.674665  143.004450\n",
       "9962  female   31  1.737863  144.781834\n",
       "9984  female   45  1.632982  177.514903\n",
       "9989    male   28  1.940960  195.461341\n",
       "9996  female   33  1.601821  141.973080\n",
       "\n",
       "[659 rows x 4 columns]"
      ]
     },
     "execution_count": 9,
     "metadata": {},
     "output_type": "execute_result"
    }
   ],
   "source": [
    "# localização das linhas do conjunto de dados que vai ser alterado\n",
    "rows = []\n",
    "for i in range(len(df)):\n",
    "    if df['sex'].iloc[i] == 'male' or df['sex'].iloc[i] == 'female':\n",
    "        rows.append(i)\n",
    "\n",
    "# verificação\n",
    "df.loc[rows, :]"
   ]
  },
  {
   "cell_type": "markdown",
   "id": "ba329ae5",
   "metadata": {},
   "source": [
    "<div style=\"text-align: justify\"> Com a descrição dos dados para as linhas correspondentes a esse segundo conjunto de dados é possível perceber que a distribuição dos valores de peso é bastante distinta do esperado considerando o dataset original, o que confirma o fato de a unidade utilizada ser diferente do outro conjunto de dados (que contém a maioria das entradas). </div>"
   ]
  },
  {
   "cell_type": "code",
   "execution_count": 10,
   "id": "be4e4ac5",
   "metadata": {},
   "outputs": [
    {
     "data": {
      "text/html": [
       "<div>\n",
       "<style scoped>\n",
       "    .dataframe tbody tr th:only-of-type {\n",
       "        vertical-align: middle;\n",
       "    }\n",
       "\n",
       "    .dataframe tbody tr th {\n",
       "        vertical-align: top;\n",
       "    }\n",
       "\n",
       "    .dataframe thead th {\n",
       "        text-align: right;\n",
       "    }\n",
       "</style>\n",
       "<table border=\"1\" class=\"dataframe\">\n",
       "  <thead>\n",
       "    <tr style=\"text-align: right;\">\n",
       "      <th></th>\n",
       "      <th>age</th>\n",
       "      <th>height</th>\n",
       "      <th>weight</th>\n",
       "    </tr>\n",
       "  </thead>\n",
       "  <tbody>\n",
       "    <tr>\n",
       "      <th>count</th>\n",
       "      <td>659.000000</td>\n",
       "      <td>659.000000</td>\n",
       "      <td>659.000000</td>\n",
       "    </tr>\n",
       "    <tr>\n",
       "      <th>mean</th>\n",
       "      <td>42.694992</td>\n",
       "      <td>1.701653</td>\n",
       "      <td>180.936348</td>\n",
       "    </tr>\n",
       "    <tr>\n",
       "      <th>std</th>\n",
       "      <td>16.489367</td>\n",
       "      <td>0.096399</td>\n",
       "      <td>44.879280</td>\n",
       "    </tr>\n",
       "    <tr>\n",
       "      <th>min</th>\n",
       "      <td>14.000000</td>\n",
       "      <td>1.419564</td>\n",
       "      <td>61.106421</td>\n",
       "    </tr>\n",
       "    <tr>\n",
       "      <th>25%</th>\n",
       "      <td>29.000000</td>\n",
       "      <td>1.633500</td>\n",
       "      <td>148.137995</td>\n",
       "    </tr>\n",
       "    <tr>\n",
       "      <th>50%</th>\n",
       "      <td>42.000000</td>\n",
       "      <td>1.692808</td>\n",
       "      <td>176.457500</td>\n",
       "    </tr>\n",
       "    <tr>\n",
       "      <th>75%</th>\n",
       "      <td>57.000000</td>\n",
       "      <td>1.767464</td>\n",
       "      <td>208.595976</td>\n",
       "    </tr>\n",
       "    <tr>\n",
       "      <th>max</th>\n",
       "      <td>70.000000</td>\n",
       "      <td>1.960126</td>\n",
       "      <td>335.295817</td>\n",
       "    </tr>\n",
       "  </tbody>\n",
       "</table>\n",
       "</div>"
      ],
      "text/plain": [
       "              age      height      weight\n",
       "count  659.000000  659.000000  659.000000\n",
       "mean    42.694992    1.701653  180.936348\n",
       "std     16.489367    0.096399   44.879280\n",
       "min     14.000000    1.419564   61.106421\n",
       "25%     29.000000    1.633500  148.137995\n",
       "50%     42.000000    1.692808  176.457500\n",
       "75%     57.000000    1.767464  208.595976\n",
       "max     70.000000    1.960126  335.295817"
      ]
     },
     "execution_count": 10,
     "metadata": {},
     "output_type": "execute_result"
    }
   ],
   "source": [
    "df.loc[rows, :].describe()"
   ]
  },
  {
   "cell_type": "code",
   "execution_count": 11,
   "id": "2ceb686e",
   "metadata": {},
   "outputs": [
    {
     "data": {
      "text/html": [
       "<div>\n",
       "<style scoped>\n",
       "    .dataframe tbody tr th:only-of-type {\n",
       "        vertical-align: middle;\n",
       "    }\n",
       "\n",
       "    .dataframe tbody tr th {\n",
       "        vertical-align: top;\n",
       "    }\n",
       "\n",
       "    .dataframe thead th {\n",
       "        text-align: right;\n",
       "    }\n",
       "</style>\n",
       "<table border=\"1\" class=\"dataframe\">\n",
       "  <thead>\n",
       "    <tr style=\"text-align: right;\">\n",
       "      <th></th>\n",
       "      <th>sex</th>\n",
       "      <th>age</th>\n",
       "      <th>height</th>\n",
       "      <th>weight</th>\n",
       "    </tr>\n",
       "  </thead>\n",
       "  <tbody>\n",
       "    <tr>\n",
       "      <th>0</th>\n",
       "      <td>M</td>\n",
       "      <td>62</td>\n",
       "      <td>1.874021</td>\n",
       "      <td>114.384199</td>\n",
       "    </tr>\n",
       "    <tr>\n",
       "      <th>1</th>\n",
       "      <td>F</td>\n",
       "      <td>44</td>\n",
       "      <td>1.672676</td>\n",
       "      <td>76.031332</td>\n",
       "    </tr>\n",
       "    <tr>\n",
       "      <th>2</th>\n",
       "      <td>F</td>\n",
       "      <td>49</td>\n",
       "      <td>1.587970</td>\n",
       "      <td>46.403086</td>\n",
       "    </tr>\n",
       "    <tr>\n",
       "      <th>3</th>\n",
       "      <td>F</td>\n",
       "      <td>25</td>\n",
       "      <td>1.653451</td>\n",
       "      <td>104.352744</td>\n",
       "    </tr>\n",
       "    <tr>\n",
       "      <th>4</th>\n",
       "      <td>M</td>\n",
       "      <td>65</td>\n",
       "      <td>1.744867</td>\n",
       "      <td>76.831890</td>\n",
       "    </tr>\n",
       "    <tr>\n",
       "      <th>...</th>\n",
       "      <td>...</td>\n",
       "      <td>...</td>\n",
       "      <td>...</td>\n",
       "      <td>...</td>\n",
       "    </tr>\n",
       "    <tr>\n",
       "      <th>9995</th>\n",
       "      <td>M</td>\n",
       "      <td>68</td>\n",
       "      <td>1.999051</td>\n",
       "      <td>135.605141</td>\n",
       "    </tr>\n",
       "    <tr>\n",
       "      <th>9996</th>\n",
       "      <td>female</td>\n",
       "      <td>33</td>\n",
       "      <td>1.601821</td>\n",
       "      <td>64.397853</td>\n",
       "    </tr>\n",
       "    <tr>\n",
       "      <th>9997</th>\n",
       "      <td>M</td>\n",
       "      <td>25</td>\n",
       "      <td>1.926656</td>\n",
       "      <td>131.105269</td>\n",
       "    </tr>\n",
       "    <tr>\n",
       "      <th>9998</th>\n",
       "      <td>F</td>\n",
       "      <td>32</td>\n",
       "      <td>1.844436</td>\n",
       "      <td>62.475271</td>\n",
       "    </tr>\n",
       "    <tr>\n",
       "      <th>9999</th>\n",
       "      <td>M</td>\n",
       "      <td>61</td>\n",
       "      <td>1.958910</td>\n",
       "      <td>136.539595</td>\n",
       "    </tr>\n",
       "  </tbody>\n",
       "</table>\n",
       "<p>10000 rows × 4 columns</p>\n",
       "</div>"
      ],
      "text/plain": [
       "         sex  age    height      weight\n",
       "0          M   62  1.874021  114.384199\n",
       "1          F   44  1.672676   76.031332\n",
       "2          F   49  1.587970   46.403086\n",
       "3          F   25  1.653451  104.352744\n",
       "4          M   65  1.744867   76.831890\n",
       "...      ...  ...       ...         ...\n",
       "9995       M   68  1.999051  135.605141\n",
       "9996  female   33  1.601821   64.397853\n",
       "9997       M   25  1.926656  131.105269\n",
       "9998       F   32  1.844436   62.475271\n",
       "9999       M   61  1.958910  136.539595\n",
       "\n",
       "[10000 rows x 4 columns]"
      ]
     },
     "execution_count": 11,
     "metadata": {},
     "output_type": "execute_result"
    }
   ],
   "source": [
    "# conversão dos valores de libras para quilogramas\n",
    "new_column = []\n",
    "for i in range(len(df)):\n",
    "    if i in rows:\n",
    "        weight = 0.453592 * df.iloc[i, 3]\n",
    "    else:\n",
    "        weight = df.iloc[i, 3]\n",
    "    new_column.append(weight)\n",
    "    \n",
    "df['weight'] = new_column\n",
    "df"
   ]
  },
  {
   "cell_type": "code",
   "execution_count": 12,
   "id": "8e2e638d",
   "metadata": {},
   "outputs": [
    {
     "data": {
      "text/html": [
       "<div>\n",
       "<style scoped>\n",
       "    .dataframe tbody tr th:only-of-type {\n",
       "        vertical-align: middle;\n",
       "    }\n",
       "\n",
       "    .dataframe tbody tr th {\n",
       "        vertical-align: top;\n",
       "    }\n",
       "\n",
       "    .dataframe thead th {\n",
       "        text-align: right;\n",
       "    }\n",
       "</style>\n",
       "<table border=\"1\" class=\"dataframe\">\n",
       "  <thead>\n",
       "    <tr style=\"text-align: right;\">\n",
       "      <th></th>\n",
       "      <th>sex</th>\n",
       "      <th>age</th>\n",
       "      <th>height</th>\n",
       "      <th>weight</th>\n",
       "    </tr>\n",
       "  </thead>\n",
       "  <tbody>\n",
       "    <tr>\n",
       "      <th>0</th>\n",
       "      <td>M</td>\n",
       "      <td>62</td>\n",
       "      <td>1.874021</td>\n",
       "      <td>114.384199</td>\n",
       "    </tr>\n",
       "    <tr>\n",
       "      <th>1</th>\n",
       "      <td>F</td>\n",
       "      <td>44</td>\n",
       "      <td>1.672676</td>\n",
       "      <td>76.031332</td>\n",
       "    </tr>\n",
       "    <tr>\n",
       "      <th>2</th>\n",
       "      <td>F</td>\n",
       "      <td>49</td>\n",
       "      <td>1.587970</td>\n",
       "      <td>46.403086</td>\n",
       "    </tr>\n",
       "    <tr>\n",
       "      <th>3</th>\n",
       "      <td>F</td>\n",
       "      <td>25</td>\n",
       "      <td>1.653451</td>\n",
       "      <td>104.352744</td>\n",
       "    </tr>\n",
       "    <tr>\n",
       "      <th>4</th>\n",
       "      <td>M</td>\n",
       "      <td>65</td>\n",
       "      <td>1.744867</td>\n",
       "      <td>76.831890</td>\n",
       "    </tr>\n",
       "    <tr>\n",
       "      <th>...</th>\n",
       "      <td>...</td>\n",
       "      <td>...</td>\n",
       "      <td>...</td>\n",
       "      <td>...</td>\n",
       "    </tr>\n",
       "    <tr>\n",
       "      <th>9995</th>\n",
       "      <td>M</td>\n",
       "      <td>68</td>\n",
       "      <td>1.999051</td>\n",
       "      <td>135.605141</td>\n",
       "    </tr>\n",
       "    <tr>\n",
       "      <th>9996</th>\n",
       "      <td>F</td>\n",
       "      <td>33</td>\n",
       "      <td>1.601821</td>\n",
       "      <td>64.397853</td>\n",
       "    </tr>\n",
       "    <tr>\n",
       "      <th>9997</th>\n",
       "      <td>M</td>\n",
       "      <td>25</td>\n",
       "      <td>1.926656</td>\n",
       "      <td>131.105269</td>\n",
       "    </tr>\n",
       "    <tr>\n",
       "      <th>9998</th>\n",
       "      <td>F</td>\n",
       "      <td>32</td>\n",
       "      <td>1.844436</td>\n",
       "      <td>62.475271</td>\n",
       "    </tr>\n",
       "    <tr>\n",
       "      <th>9999</th>\n",
       "      <td>M</td>\n",
       "      <td>61</td>\n",
       "      <td>1.958910</td>\n",
       "      <td>136.539595</td>\n",
       "    </tr>\n",
       "  </tbody>\n",
       "</table>\n",
       "<p>10000 rows × 4 columns</p>\n",
       "</div>"
      ],
      "text/plain": [
       "     sex  age    height      weight\n",
       "0      M   62  1.874021  114.384199\n",
       "1      F   44  1.672676   76.031332\n",
       "2      F   49  1.587970   46.403086\n",
       "3      F   25  1.653451  104.352744\n",
       "4      M   65  1.744867   76.831890\n",
       "...   ..  ...       ...         ...\n",
       "9995   M   68  1.999051  135.605141\n",
       "9996   F   33  1.601821   64.397853\n",
       "9997   M   25  1.926656  131.105269\n",
       "9998   F   32  1.844436   62.475271\n",
       "9999   M   61  1.958910  136.539595\n",
       "\n",
       "[10000 rows x 4 columns]"
      ]
     },
     "execution_count": 12,
     "metadata": {},
     "output_type": "execute_result"
    }
   ],
   "source": [
    "df['sex'].replace('male', 'M', inplace=True)\n",
    "df['sex'].replace('female', 'F', inplace=True)\n",
    "df"
   ]
  },
  {
   "cell_type": "code",
   "execution_count": 13,
   "id": "9beec578",
   "metadata": {},
   "outputs": [
    {
     "data": {
      "image/png": "[encoded data removed]",
      "text/plain": [
       "<Figure size 1080x432 with 1 Axes>"
      ]
     },
     "metadata": {
      "needs_background": "light"
     },
     "output_type": "display_data"
    }
   ],
   "source": [
    "# plotando o gráfico novamente, agora com o dataset modificado\n",
    "x = df['height']\n",
    "y = df['weight']\n",
    "\n",
    "xticks_array = []\n",
    "n = 8\n",
    "for i in range(n+1):\n",
    "    xticks_array.append(df.iloc[:,2].min() + i*(df.iloc[:,2].max() - df.iloc[:,2].min())/n)\n",
    "\n",
    "yticks_array = []\n",
    "m = 7\n",
    "for j in range(m):\n",
    "    yticks_array.append((j+1)*25)\n",
    "\n",
    "plt.figure(figsize=(15, 6))\n",
    "plt.scatter(x, y, color=\"green\")\n",
    "plt.title('Dispersão de valores de peso em função da altura', fontsize= 20) # Adiciona o título do gráfico\n",
    "plt.xlabel('Altura [m]',fontsize = 15) # Adiciona o título do eixo x\n",
    "plt.ylabel('Peso [kg]', fontsize = 15) # Adiciona o título do eixo y\n",
    "plt.xticks(xticks_array)\n",
    "plt.yticks(yticks_array)\n",
    "plt.grid()\n",
    "plt.show()"
   ]
  },
  {
   "cell_type": "markdown",
   "id": "4ba0c1ce",
   "metadata": {},
   "source": [
    "<div style=\"text-align: justify\"> Com esse novo gráfico observa-se a mesma correlação positiva mencionada e também a existência de <i>outliers</i>, que são os pontos que se distanciam bastante da grande concentração de pontos. Vale ressaltar que o comportamento observado no geral está dentro do esperado. </div>"
   ]
  },
  {
   "cell_type": "markdown",
   "id": "e0b1a2f0",
   "metadata": {},
   "source": [
    "### 3. Calculando valores de IMC"
   ]
  },
  {
   "cell_type": "markdown",
   "id": "3c6b934f",
   "metadata": {},
   "source": [
    "<div style=\"text-align: justify\"> Para analisar o índice de massa corporal, foi criada uma nova coluna para o dataset obtida através das features <i>'height'</i> e <i>'weight'</i> por meio da relação: $ IMC = \\frac{weight}{(height)^2} $ sendo as unidades no SI (<i>kg</i> para massa e <i>m</i> para altura). Assumindo que futuramente será checada a classificação do indivíduo em termos do IMC, utilizou-se a função <i>round()</i> para facilitar a comparação com a tabela de classes de IMC. </div>"
   ]
  },
  {
   "cell_type": "code",
   "execution_count": 14,
   "id": "c926fcf1",
   "metadata": {},
   "outputs": [
    {
     "data": {
      "text/html": [
       "<div>\n",
       "<style scoped>\n",
       "    .dataframe tbody tr th:only-of-type {\n",
       "        vertical-align: middle;\n",
       "    }\n",
       "\n",
       "    .dataframe tbody tr th {\n",
       "        vertical-align: top;\n",
       "    }\n",
       "\n",
       "    .dataframe thead th {\n",
       "        text-align: right;\n",
       "    }\n",
       "</style>\n",
       "<table border=\"1\" class=\"dataframe\">\n",
       "  <thead>\n",
       "    <tr style=\"text-align: right;\">\n",
       "      <th></th>\n",
       "      <th>sex</th>\n",
       "      <th>age</th>\n",
       "      <th>height</th>\n",
       "      <th>weight</th>\n",
       "      <th>IMC</th>\n",
       "    </tr>\n",
       "  </thead>\n",
       "  <tbody>\n",
       "    <tr>\n",
       "      <th>0</th>\n",
       "      <td>M</td>\n",
       "      <td>62</td>\n",
       "      <td>1.874021</td>\n",
       "      <td>114.384199</td>\n",
       "      <td>32.6</td>\n",
       "    </tr>\n",
       "    <tr>\n",
       "      <th>1</th>\n",
       "      <td>F</td>\n",
       "      <td>44</td>\n",
       "      <td>1.672676</td>\n",
       "      <td>76.031332</td>\n",
       "      <td>27.2</td>\n",
       "    </tr>\n",
       "    <tr>\n",
       "      <th>2</th>\n",
       "      <td>F</td>\n",
       "      <td>49</td>\n",
       "      <td>1.587970</td>\n",
       "      <td>46.403086</td>\n",
       "      <td>18.4</td>\n",
       "    </tr>\n",
       "    <tr>\n",
       "      <th>3</th>\n",
       "      <td>F</td>\n",
       "      <td>25</td>\n",
       "      <td>1.653451</td>\n",
       "      <td>104.352744</td>\n",
       "      <td>38.2</td>\n",
       "    </tr>\n",
       "    <tr>\n",
       "      <th>4</th>\n",
       "      <td>M</td>\n",
       "      <td>65</td>\n",
       "      <td>1.744867</td>\n",
       "      <td>76.831890</td>\n",
       "      <td>25.2</td>\n",
       "    </tr>\n",
       "    <tr>\n",
       "      <th>...</th>\n",
       "      <td>...</td>\n",
       "      <td>...</td>\n",
       "      <td>...</td>\n",
       "      <td>...</td>\n",
       "      <td>...</td>\n",
       "    </tr>\n",
       "    <tr>\n",
       "      <th>9995</th>\n",
       "      <td>M</td>\n",
       "      <td>68</td>\n",
       "      <td>1.999051</td>\n",
       "      <td>135.605141</td>\n",
       "      <td>33.9</td>\n",
       "    </tr>\n",
       "    <tr>\n",
       "      <th>9996</th>\n",
       "      <td>F</td>\n",
       "      <td>33</td>\n",
       "      <td>1.601821</td>\n",
       "      <td>64.397853</td>\n",
       "      <td>25.1</td>\n",
       "    </tr>\n",
       "    <tr>\n",
       "      <th>9997</th>\n",
       "      <td>M</td>\n",
       "      <td>25</td>\n",
       "      <td>1.926656</td>\n",
       "      <td>131.105269</td>\n",
       "      <td>35.3</td>\n",
       "    </tr>\n",
       "    <tr>\n",
       "      <th>9998</th>\n",
       "      <td>F</td>\n",
       "      <td>32</td>\n",
       "      <td>1.844436</td>\n",
       "      <td>62.475271</td>\n",
       "      <td>18.4</td>\n",
       "    </tr>\n",
       "    <tr>\n",
       "      <th>9999</th>\n",
       "      <td>M</td>\n",
       "      <td>61</td>\n",
       "      <td>1.958910</td>\n",
       "      <td>136.539595</td>\n",
       "      <td>35.6</td>\n",
       "    </tr>\n",
       "  </tbody>\n",
       "</table>\n",
       "<p>10000 rows × 5 columns</p>\n",
       "</div>"
      ],
      "text/plain": [
       "     sex  age    height      weight   IMC\n",
       "0      M   62  1.874021  114.384199  32.6\n",
       "1      F   44  1.672676   76.031332  27.2\n",
       "2      F   49  1.587970   46.403086  18.4\n",
       "3      F   25  1.653451  104.352744  38.2\n",
       "4      M   65  1.744867   76.831890  25.2\n",
       "...   ..  ...       ...         ...   ...\n",
       "9995   M   68  1.999051  135.605141  33.9\n",
       "9996   F   33  1.601821   64.397853  25.1\n",
       "9997   M   25  1.926656  131.105269  35.3\n",
       "9998   F   32  1.844436   62.475271  18.4\n",
       "9999   M   61  1.958910  136.539595  35.6\n",
       "\n",
       "[10000 rows x 5 columns]"
      ]
     },
     "execution_count": 14,
     "metadata": {},
     "output_type": "execute_result"
    }
   ],
   "source": [
    "df['IMC'] = round(df['weight']/((df['height']) ** 2), 1)\n",
    "df"
   ]
  },
  {
   "cell_type": "markdown",
   "id": "c15c30b7",
   "metadata": {},
   "source": [
    "### 4. Outliers uni e multivariados"
   ]
  },
  {
   "cell_type": "markdown",
   "id": "47350085",
   "metadata": {},
   "source": [
    "<div style=\"text-align: justify\"> Da descrição estatística da feature IMC, segue que os valores estão distribuídos entre 7.7 e 53.5, de modo que é possível que existam valores extremos que podem ser desconsiderados da análise. </div>"
   ]
  },
  {
   "cell_type": "code",
   "execution_count": 15,
   "id": "39d63825",
   "metadata": {},
   "outputs": [
    {
     "data": {
      "text/plain": [
       "count    10000.000000\n",
       "mean        28.108270\n",
       "std          5.996193\n",
       "min          7.700000\n",
       "25%         24.100000\n",
       "50%         28.100000\n",
       "75%         32.200000\n",
       "max         53.500000\n",
       "Name: IMC, dtype: float64"
      ]
     },
     "execution_count": 15,
     "metadata": {},
     "output_type": "execute_result"
    }
   ],
   "source": [
    "df['IMC'].describe()"
   ]
  },
  {
   "cell_type": "markdown",
   "id": "be99cdb6",
   "metadata": {},
   "source": [
    "<div style=\"text-align: justify\"> Os outliers univariados são aqueles que podem ser identificados diretamente da distribuição de cada feature, por exemplo através da obtenção de um boxplot que caracteriza essa distribuição. Em contrapartida, os outliers multivariados são valores extremos (que se distanciam da grande concentração de valores) quando consideradas mais variáveis. Simplificando, a diferença entre esses tipos de outliers consiste no número de dimensões levadas em conta. </div>"
   ]
  },
  {
   "cell_type": "markdown",
   "id": "d74a0643",
   "metadata": {},
   "source": [
    "<div style=\"text-align: justify\"> Dessa forma, no contexto do IMC, os outliers são do tipo multivariados, dado que analisar individualmente a distribuição da feature obtida pode não ser o ideal para identificar valores duvidosos, pois o IMC é uma função das features altura e peso. Nesse sentido, os outliers podem ser obtidos da análise do gráfico para a distribuição de peso em função da altura. </div>"
   ]
  },
  {
   "cell_type": "markdown",
   "id": "653c440a",
   "metadata": {},
   "source": [
    "<div style=\"text-align: justify\"> O critério adotado para remover os outliers do dataset foi considerar uma regressão linear entre as features, dado o comportamento observado anteriormente, calculando em sequência a distância entre cada valor de peso e o valor esperado para a regressão. Assim, para valores de distância significativamente grandes (assumiu-se um erro de metade do valor esperado), os pontos foram considerados outliers e removidos do dataset. </div>"
   ]
  },
  {
   "cell_type": "code",
   "execution_count": 16,
   "id": "2d611b30",
   "metadata": {
    "scrolled": false
   },
   "outputs": [
    {
     "data": {
      "image/png": "[encoded data removed]",
      "text/plain": [
       "<Figure size 1080x432 with 1 Axes>"
      ]
     },
     "metadata": {
      "needs_background": "light"
     },
     "output_type": "display_data"
    }
   ],
   "source": [
    "# gráfico que considera a distância vertical dos pontos para a reta de regressão\n",
    "plt.figure(figsize=(15, 6))\n",
    "x = df['height']\n",
    "y = df['weight']\n",
    "plt.scatter(x, y, color=\"purple\")\n",
    "\n",
    "coefficients = np.polyfit(df['height'], df['weight'], 1)\n",
    "slope, intercept = coefficients\n",
    "\n",
    "# adicionando a reta de regressão ao gráfico\n",
    "regression_line = slope * x + intercept\n",
    "plt.plot(x, regression_line, color='purple', label='Reta de regressão', linewidth = 2)\n",
    "\n",
    "# cálculo da distância vertical dos pontos e identificação dos outliers\n",
    "values_pred = []\n",
    "distances = []\n",
    "rows = []\n",
    "for i in range(len(df)):\n",
    "    value = slope * df.iloc[i, 2] + intercept\n",
    "    threshold = value/2\n",
    "    dist = np.abs(df.iloc[i, 3] - value)\n",
    "    values_pred.append(value)\n",
    "    distances.append(dist)\n",
    "    if dist > threshold:\n",
    "        rows.append(i)\n",
    "\n",
    "# destacando os outliers no gráfico\n",
    "plt.scatter(df.iloc[rows, 2], df.iloc[rows, 3], color='red', label='Outliers')\n",
    "\n",
    "plt.title('Gráfico de dispersão de peso em função da altura com regressão e outliers', fontsize = 15)\n",
    "plt.legend()\n",
    "plt.show()"
   ]
  },
  {
   "cell_type": "code",
   "execution_count": 17,
   "id": "d2049675",
   "metadata": {},
   "outputs": [
    {
     "data": {
      "text/html": [
       "<div>\n",
       "<style scoped>\n",
       "    .dataframe tbody tr th:only-of-type {\n",
       "        vertical-align: middle;\n",
       "    }\n",
       "\n",
       "    .dataframe tbody tr th {\n",
       "        vertical-align: top;\n",
       "    }\n",
       "\n",
       "    .dataframe thead th {\n",
       "        text-align: right;\n",
       "    }\n",
       "</style>\n",
       "<table border=\"1\" class=\"dataframe\">\n",
       "  <thead>\n",
       "    <tr style=\"text-align: right;\">\n",
       "      <th></th>\n",
       "      <th>sex</th>\n",
       "      <th>age</th>\n",
       "      <th>height</th>\n",
       "      <th>weight</th>\n",
       "      <th>IMC</th>\n",
       "    </tr>\n",
       "  </thead>\n",
       "  <tbody>\n",
       "    <tr>\n",
       "      <th>0</th>\n",
       "      <td>M</td>\n",
       "      <td>62</td>\n",
       "      <td>1.874021</td>\n",
       "      <td>114.384199</td>\n",
       "      <td>32.6</td>\n",
       "    </tr>\n",
       "    <tr>\n",
       "      <th>1</th>\n",
       "      <td>F</td>\n",
       "      <td>44</td>\n",
       "      <td>1.672676</td>\n",
       "      <td>76.031332</td>\n",
       "      <td>27.2</td>\n",
       "    </tr>\n",
       "    <tr>\n",
       "      <th>2</th>\n",
       "      <td>F</td>\n",
       "      <td>49</td>\n",
       "      <td>1.587970</td>\n",
       "      <td>46.403086</td>\n",
       "      <td>18.4</td>\n",
       "    </tr>\n",
       "    <tr>\n",
       "      <th>3</th>\n",
       "      <td>F</td>\n",
       "      <td>25</td>\n",
       "      <td>1.653451</td>\n",
       "      <td>104.352744</td>\n",
       "      <td>38.2</td>\n",
       "    </tr>\n",
       "    <tr>\n",
       "      <th>4</th>\n",
       "      <td>M</td>\n",
       "      <td>65</td>\n",
       "      <td>1.744867</td>\n",
       "      <td>76.831890</td>\n",
       "      <td>25.2</td>\n",
       "    </tr>\n",
       "    <tr>\n",
       "      <th>...</th>\n",
       "      <td>...</td>\n",
       "      <td>...</td>\n",
       "      <td>...</td>\n",
       "      <td>...</td>\n",
       "      <td>...</td>\n",
       "    </tr>\n",
       "    <tr>\n",
       "      <th>9995</th>\n",
       "      <td>M</td>\n",
       "      <td>68</td>\n",
       "      <td>1.999051</td>\n",
       "      <td>135.605141</td>\n",
       "      <td>33.9</td>\n",
       "    </tr>\n",
       "    <tr>\n",
       "      <th>9996</th>\n",
       "      <td>F</td>\n",
       "      <td>33</td>\n",
       "      <td>1.601821</td>\n",
       "      <td>64.397853</td>\n",
       "      <td>25.1</td>\n",
       "    </tr>\n",
       "    <tr>\n",
       "      <th>9997</th>\n",
       "      <td>M</td>\n",
       "      <td>25</td>\n",
       "      <td>1.926656</td>\n",
       "      <td>131.105269</td>\n",
       "      <td>35.3</td>\n",
       "    </tr>\n",
       "    <tr>\n",
       "      <th>9998</th>\n",
       "      <td>F</td>\n",
       "      <td>32</td>\n",
       "      <td>1.844436</td>\n",
       "      <td>62.475271</td>\n",
       "      <td>18.4</td>\n",
       "    </tr>\n",
       "    <tr>\n",
       "      <th>9999</th>\n",
       "      <td>M</td>\n",
       "      <td>61</td>\n",
       "      <td>1.958910</td>\n",
       "      <td>136.539595</td>\n",
       "      <td>35.6</td>\n",
       "    </tr>\n",
       "  </tbody>\n",
       "</table>\n",
       "<p>9816 rows × 5 columns</p>\n",
       "</div>"
      ],
      "text/plain": [
       "     sex  age    height      weight   IMC\n",
       "0      M   62  1.874021  114.384199  32.6\n",
       "1      F   44  1.672676   76.031332  27.2\n",
       "2      F   49  1.587970   46.403086  18.4\n",
       "3      F   25  1.653451  104.352744  38.2\n",
       "4      M   65  1.744867   76.831890  25.2\n",
       "...   ..  ...       ...         ...   ...\n",
       "9995   M   68  1.999051  135.605141  33.9\n",
       "9996   F   33  1.601821   64.397853  25.1\n",
       "9997   M   25  1.926656  131.105269  35.3\n",
       "9998   F   32  1.844436   62.475271  18.4\n",
       "9999   M   61  1.958910  136.539595  35.6\n",
       "\n",
       "[9816 rows x 5 columns]"
      ]
     },
     "execution_count": 17,
     "metadata": {},
     "output_type": "execute_result"
    }
   ],
   "source": [
    "df.drop(rows, axis = 0, inplace = True)\n",
    "df"
   ]
  },
  {
   "cell_type": "code",
   "execution_count": 18,
   "id": "20f800e8",
   "metadata": {},
   "outputs": [
    {
     "data": {
      "text/plain": [
       "count    9816.000000\n",
       "mean       28.083924\n",
       "std         5.632906\n",
       "min        14.000000\n",
       "25%        24.100000\n",
       "50%        28.100000\n",
       "75%        32.100000\n",
       "max        42.300000\n",
       "Name: IMC, dtype: float64"
      ]
     },
     "execution_count": 18,
     "metadata": {},
     "output_type": "execute_result"
    }
   ],
   "source": [
    "df['IMC'].describe()"
   ]
  },
  {
   "cell_type": "markdown",
   "id": "64d0f6f2",
   "metadata": {},
   "source": [
    "<div style=\"text-align: justify\"> Como é possível notar, os valores de IMC agora estão contidos na faixa entre 14 e 42.3, o que é mais pertinente do que a faixa obtida inicialmente considerando a tabela de classes de IMC. </div>"
   ]
  },
  {
   "cell_type": "markdown",
   "id": "50810016",
   "metadata": {},
   "source": [
    "### 5. Classificação dos indivíduos quanto ao IMC"
   ]
  },
  {
   "cell_type": "markdown",
   "id": "c1bedca3",
   "metadata": {},
   "source": [
    "<div style=\"text-align: justify\"> Considerando as classes de IMC, um valor de interesse para a saúde pública pode ser a razão de indivíduos classificados como não saudáveis em relação ao número total de entrevistados, considerando que a pessoa será saudável se o valor calculado estiver entre 18.5 e 24.9. Nesse sentido, considerando o dataset modificado, criando uma séries de dados atribuindo o valor 1 para os casos em que não é saudável e zero para os casos em que o indivíduo é saudável e, em seguida, calculando a média dessa série ($ \\frac {não\\;saudáveis}{total} $), obtém-se o percentual desejado. </div>"
   ]
  },
  {
   "cell_type": "code",
   "execution_count": 19,
   "id": "e39632b1",
   "metadata": {},
   "outputs": [
    {
     "name": "stdout",
     "output_type": "stream",
     "text": [
      "A porcentagem da população entrevistada fora da condição saudável é 75.01 %.\n"
     ]
    }
   ],
   "source": [
    "def identify_unhealthy(imc):\n",
    "    if imc >= 18.5 and imc <= 24.9:\n",
    "        return 0\n",
    "    return 1\n",
    "\n",
    "unhealthy_encoded = df['IMC'].apply(identify_unhealthy)\n",
    "unhealthy_percentual = unhealthy_encoded.mean()\n",
    "print('A porcentagem da população entrevistada fora da condição saudável é', round(100*unhealthy_percentual,2), '%.')"
   ]
  },
  {
   "cell_type": "markdown",
   "id": "3fe6af3a",
   "metadata": {},
   "source": [
    "### 6. Relação entre features"
   ]
  },
  {
   "cell_type": "code",
   "execution_count": 20,
   "id": "cee49d68",
   "metadata": {},
   "outputs": [
    {
     "data": {
      "image/png": "[encoded data removed]",
      "text/plain": [
       "<Figure size 864x576 with 2 Axes>"
      ]
     },
     "metadata": {
      "needs_background": "light"
     },
     "output_type": "display_data"
    }
   ],
   "source": [
    "fig, axs = plt.subplots(1, 2, figsize=(12, 8))\n",
    "\n",
    "dicio = { 'sex': {'M': 'Masculino', 'F': 'Feminino'}}\n",
    "\n",
    "# Violinplot 1\n",
    "sns.violinplot(x='sex', y='height', data=df.replace(dicio), ax=axs[0]) # Realiza o violinplot\n",
    "axs[0].set_title('Altura em função do sexo')\n",
    "axs[0].set_xlabel('Sexo')\n",
    "axs[0].set_ylabel('Altura [m]')\n",
    "\n",
    "# Violinplot 2\n",
    "sns.violinplot(x='sex', y='weight', data=df.replace(dicio), ax=axs[1]) # Realiza o violinplot\n",
    "axs[1].set_title('Peso em função do sexo')\n",
    "axs[1].set_xlabel('Sexo')\n",
    "axs[1].set_ylabel('Peso [kg]')\n",
    "\n",
    "plt.show()"
   ]
  },
  {
   "cell_type": "markdown",
   "id": "fb04f0ab",
   "metadata": {},
   "source": [
    "<div style=\"text-align: justify\"> \n",
    "Da análise do violinplot da altura em função do sexo, segue que:\n",
    "    \n",
    "<ul>\n",
    "<li>há uma maior concentração de registros em Turingópolis com altura entre 1.7 e 1.85 metros para o sexo masculino, enquanto que para o sexo feminino a concentração se dá entre 1.55 e 1.75;</li>\n",
    "<li>a distribuição para o sexo masculino é mais simétrica, dado que apresenta pouca concentração em ambas as caudas e elas não destoam muito em tamanho, enquanto que na distribuição para o sexo feminino a cauda superior é mais curta do que a inferior (há valores extremos para baixo mais distantes da média do que para cima);</li>\n",
    "<li>valores extremos de altura para o violinplot do sexo masculino são mais elevados do que para o sexo feminino</li>\n",
    "</ul>\n",
    "    \n",
    "Por fim, considerando o violinplot para o peso:\n",
    "<ul>\n",
    "<li>há uma maior concentração de valores para o sexo feminino, enquanto que para o sexo masculino o intervalo de valores é maior;</li>\n",
    "<li>a média de pesos para o sexo masculino é mais elevada do que para o sexo feminino;</li>\n",
    "<li>valores extremos são mais distantes na distribuição para o sexo masculino</li>\n",
    "</ul>\n",
    "</div>"
   ]
  }
 ],
 "metadata": {
  "kernelspec": {
   "display_name": "Python 3 (ipykernel)",
   "language": "python",
   "name": "python3"
  },
  "language_info": {
   "codemirror_mode": {
    "name": "ipython",
    "version": 3
   },
   "file_extension": ".py",
   "mimetype": "text/x-python",
   "name": "python",
   "nbconvert_exporter": "python",
   "pygments_lexer": "ipython3",
   "version": "3.9.12"
  }
 },
 "nbformat": 4,
 "nbformat_minor": 5
}
